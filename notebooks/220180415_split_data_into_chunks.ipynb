{
 "cells": [
  {
   "cell_type": "markdown",
   "metadata": {},
   "source": [
    "# Split data files into chunks ordered by days, weeks, ...\n",
    "\n"
   ]
  },
  {
   "cell_type": "code",
   "execution_count": 3,
   "metadata": {
    "collapsed": true
   },
   "outputs": [],
   "source": [
    "import numpy as np\n",
    "from datetime import datetime\n",
    "from quickndirtybot import io\n"
   ]
  },
  {
   "cell_type": "code",
   "execution_count": 12,
   "metadata": {
    "collapsed": false
   },
   "outputs": [],
   "source": [
    "filename_in = '../data/gdax_data'\n",
    "# split by conversion:\n",
    "splitby = '_%Y-%m-%d'\n",
    "splitby = '_%Y-%U'\n",
    "\n",
    "data = io.load_csv(filename_in + '.csv')\n",
    "\n",
    "# get datetimes from timestamps\n",
    "time = [datetime.fromtimestamp(x/1000) for x in data[:, 0]]\n",
    "categories = [ti.strftime(splitby) for ti in time]\n",
    "\n",
    "lastidx = 0\n",
    "for i, (line, lastline) in enumerate(zip(categories[1:], categories[:-1])):\n",
    "    if line != lastline:\n",
    "        io.save_csv(data[lastidx:i, :], filename_in+lastline+'.csv')\n",
    "        lastidx = i+1\n",
    "io.save_csv(data[lastidx:, :], filename_in+line+'.csv')"
   ]
  },
  {
   "cell_type": "code",
   "execution_count": null,
   "metadata": {
    "collapsed": true
   },
   "outputs": [],
   "source": []
  }
 ],
 "metadata": {
  "kernelspec": {
   "display_name": "Python 3 (ccxt_env)",
   "language": "python",
   "name": "ccxt_env"
  },
  "language_info": {
   "codemirror_mode": {
    "name": "ipython",
    "version": 3
   },
   "file_extension": ".py",
   "mimetype": "text/x-python",
   "name": "python",
   "nbconvert_exporter": "python",
   "pygments_lexer": "ipython3",
   "version": "3.6.2"
  }
 },
 "nbformat": 4,
 "nbformat_minor": 0
}
