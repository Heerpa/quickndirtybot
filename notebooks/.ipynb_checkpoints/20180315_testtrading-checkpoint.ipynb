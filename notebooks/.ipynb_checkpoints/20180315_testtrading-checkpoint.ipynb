{
 "cells": [
  {
   "cell_type": "markdown",
   "metadata": {},
   "source": [
    "# Test trading\n",
    "but on dry-run: no real transactions, but live backtesting\n"
   ]
  },
  {
   "cell_type": "code",
   "execution_count": 1,
   "metadata": {
    "collapsed": true
   },
   "outputs": [],
   "source": [
    "from quickndirtybot import connect\n",
    "from quickndirtybot.io import load_config\n",
    "from quickndirtybot import trade\n",
    "from quickndirtybot.strategies import minmax"
   ]
  },
  {
   "cell_type": "code",
   "execution_count": 2,
   "metadata": {
    "collapsed": false
   },
   "outputs": [
    {
     "ename": "SyntaxError",
     "evalue": "positional argument follows keyword argument (<ipython-input-2-a5df7b63e974>, line 3)",
     "output_type": "error",
     "traceback": [
      "\u001b[0;36m  File \u001b[0;32m\"<ipython-input-2-a5df7b63e974>\"\u001b[0;36m, line \u001b[0;32m3\u001b[0m\n\u001b[0;31m    connect.check_credentials(exchange, key=config['exchange']['key'], secret['exchange']['secret'], password=['exchange']['password'])\u001b[0m\n\u001b[0m                                                                      ^\u001b[0m\n\u001b[0;31mSyntaxError\u001b[0m\u001b[0;31m:\u001b[0m positional argument follows keyword argument\n"
     ]
    }
   ],
   "source": [
    "exchange = connect.connect('gdax')\n",
    "config = load_config('../configs/config_gdax.json')\n",
    "connect.check_credentials(exchange, credentials=config['exchange'])\n",
    "symbol = 'BTC/USD'\n",
    "strategy = {\n",
    "    'strategy': minmax,\n",
    "    'measure_pars': {'smaperiod': 20, 'minmaxperiod': 180},\n",
    "    'findbuy_pars': {'thresh_maxovermin': 1.0001},\n",
    "    'findsell_pars': {'thresh_maxovermin': 1.0001},\n",
    "    'evallines': 250,\n",
    "    'interval': '1m',\n",
    "    'minfunds_USD': 10,\n",
    "    'minfunds_BTC': .005,\n",
    "    'amount_buy': 10,\n",
    "    'amount_sell': 10,\n",
    "}"
   ]
  },
  {
   "cell_type": "code",
   "execution_count": null,
   "metadata": {
    "collapsed": false
   },
   "outputs": [],
   "source": [
    "trade.trade(exchange, symbol, strategy_dict=strategy, filename='../data/trade_gdax',\n",
    "          test=True, taker_fee=0.003)"
   ]
  },
  {
   "cell_type": "code",
   "execution_count": null,
   "metadata": {
    "collapsed": true
   },
   "outputs": [],
   "source": []
  }
 ],
 "metadata": {
  "kernelspec": {
   "display_name": "Python 3 (ccxt_env)",
   "language": "python",
   "name": "ccxt_env"
  }
 },
 "nbformat": 4,
 "nbformat_minor": 0
}
