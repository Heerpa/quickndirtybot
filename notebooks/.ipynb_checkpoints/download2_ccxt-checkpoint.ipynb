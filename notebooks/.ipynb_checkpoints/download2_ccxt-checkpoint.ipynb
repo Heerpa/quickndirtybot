{
 "cells": [
  {
   "cell_type": "markdown",
   "metadata": {},
   "source": [
    "# continuously download"
   ]
  },
  {
   "cell_type": "code",
   "execution_count": null,
   "metadata": {
    "collapsed": true
   },
   "outputs": [],
   "source": []
  },
  {
   "cell_type": "code",
   "execution_count": 1,
   "metadata": {
    "collapsed": true
   },
   "outputs": [],
   "source": [
    "import ccxt\n",
    "exchange = getattr(ccxt, 'gdax') ()\n",
    "symbol = 'BTC/USD'\n",
    "interval = '1m'"
   ]
  },
  {
   "cell_type": "code",
   "execution_count": 2,
   "metadata": {
    "collapsed": true
   },
   "outputs": [],
   "source": [
    "# get data\n",
    "import time\n",
    "def get_ohlcv(exchange, interval, symbol):\n",
    "    if exchange.has['fetchOHLCV']:\n",
    "        time.sleep(exchange.rateLimit / 1000) # time.sleep wants seconds\n",
    "        gdaxohlcv = exchange.fetch_ohlcv (symbol, interval) # 1 minute intervals\n",
    "        return np.array(gdaxohlcv)"
   ]
  },
  {
   "cell_type": "code",
   "execution_count": 3,
   "metadata": {},
   "outputs": [
    {
     "name": "stdout",
     "output_type": "stream",
     "text": [
      "           time    ask_vol  ask_spread_price  ask_closest_price  \\\n",
      "0  1.523222e+09  39.204682             17.54            6962.23   \n",
      "1  1.523222e+09  39.758484             17.54            6962.23   \n",
      "\n",
      "   ask_closest_vol  ask_weighted_mean_price    bid_vol  bid_spread_price  \\\n",
      "0         0.926554              6975.533599  54.082134            -10.21   \n",
      "1         0.954554              6975.312726  53.134606            -10.22   \n",
      "\n",
      "   bid_closest_price  bid_closest_vol  bid_weighted_mean_price  \\\n",
      "0            6962.22        14.064024              6957.307769   \n",
      "1            6962.22        13.211480              6957.245996   \n",
      "\n",
      "   ask_closestpromille_vol  ask_stdovermean_price  bid_closestpromille_vol  \\\n",
      "0                39.204682               0.000735                36.439545   \n",
      "1                39.758484               0.000742                35.476973   \n",
      "\n",
      "   bid_stdovermean_price  \n",
      "0               0.000407  \n",
      "1               0.000421  \n"
     ]
    }
   ],
   "source": [
    "# get order book and make statistics on it\n",
    "import pandas as pd\n",
    "import numpy as np\n",
    "from datetime import datetime\n",
    "\n",
    "def get_orderbook_now(exchange, symbol):\n",
    "    ob = exchange.fetch_order_book(symbol)\n",
    "#     print(ob)\n",
    "    ob_asks = np.array(ob['asks'])\n",
    "    ob_bids = np.array(ob['bids'])\n",
    "    ob_stats = {}\n",
    "    ob_stats['time'] = datetime.now().timestamp()\n",
    "    ob_stats['ask_vol'] = np.sum(ob_asks[:, 1])\n",
    "    ob_stats['ask_stdovermean_price'] = np.std(ob_asks[:, 0])/np.mean(ob_asks[:, 0])\n",
    "    ob_stats['ask_spread_price'] = ob_asks[-1, 0] - ob_asks[0, 0]\n",
    "    ob_stats['ask_closest_price'] = ob_asks[0, 0]\n",
    "    ob_stats['ask_closest_vol'] = ob_asks[0, 1]\n",
    "    ob_stats['ask_weighted_mean_price'] = np.sum((ob_asks[:, 0] * ob_asks[:, 1])/np.sum(ob_asks[:, 1]))\n",
    "    ob_stats['ask_closestpromille_vol'] = np.sum(ob_asks[np.argwhere(ob_asks[:, 0]>.999*ob_asks[0, 0]), 1])\n",
    "    ob_stats['bid_vol'] = np.sum(ob_bids[:, 1])\n",
    "    ob_stats['bid_stdovermean_price'] = np.std(ob_bids[:, 0])/np.mean(ob_bids[:, 0])\n",
    "    ob_stats['bid_spread_price'] = ob_bids[-1, 0] - ob_bids[0, 0]\n",
    "    ob_stats['bid_closest_price'] = ob_bids[0, 0]\n",
    "    ob_stats['bid_closest_vol'] = ob_bids[0, 1]\n",
    "    ob_stats['bid_weighted_mean_price'] = np.sum((ob_bids[:, 0] * ob_bids[:, 1])/np.sum(ob_bids[:, 1]))\n",
    "    ob_stats['bid_closestpromille_vol'] = np.sum(ob_bids[np.argwhere(ob_bids[:, 0]>.999*ob_bids[0, 0]), 1])\n",
    "    return ob_stats\n",
    "\n",
    "columns = ['time',\n",
    "           'ask_vol', 'ask_spread_price', 'ask_closest_price', 'ask_closest_vol', 'ask_weighted_mean_price',\n",
    "           'bid_vol', 'bid_spread_price', 'bid_closest_price', 'bid_closest_vol', 'bid_weighted_mean_price']\n",
    "ob = pd.DataFrame(columns=columns)\n",
    "ob_stats = get_orderbook_now(exchange, symbol)\n",
    "ob = ob.append(ob_stats, ignore_index=True)\n",
    "time.sleep(5)\n",
    "ob = ob.append(get_orderbook_now(exchange, symbol), ignore_index=True)\n",
    "\n",
    "print(ob)"
   ]
  },
  {
   "cell_type": "code",
   "execution_count": null,
   "metadata": {},
   "outputs": [
    {
     "name": "stdout",
     "output_type": "stream",
     "text": [
      "timeout, going on\n",
      "No module named 'openpyxl'\n",
      "loop 0: time: 2018-04-08 23:11:35.519619\n",
      "gdax: 1 entries\n",
      "timeout, going on\n",
      "No module named 'openpyxl'\n",
      "loop 1: time: 2018-04-08 23:12:36.124385\n",
      "gdax: 2 entries\n"
     ]
    }
   ],
   "source": [
    "# main loop to download order book data\n",
    "import time\n",
    "from datetime import datetime\n",
    "import ccxt\n",
    "\n",
    "interval = 60  # seconds\n",
    "\n",
    "gdax = getattr(ccxt, 'gdax') ()\n",
    "\n",
    "ob_gdax = pd.DataFrame(columns=columns)\n",
    "i=0\n",
    "currweek = ''\n",
    "while True:\n",
    "    if currweek != datetime.now().strftime('%U'):  # empty dataset after a week\n",
    "        ob_gdax = pd.DataFrame(columns=columns)\n",
    "        currweek = datetime.now().strftime('%U')\n",
    "    try:\n",
    "        ob_dict = get_orderbook_now(gdax, symbol)\n",
    "        ob_gdax = ob_gdax.append(ob_dict, ignore_index=True)\n",
    "        ob_gdax.to_excel('gdax_orderbook_'+datetime.now().strftime('%Y-%U')+'.xlsx')\n",
    "    except Exception as e:\n",
    "        print('timeout, going on')\n",
    "        print(e)\n",
    "    print('loop {:d}:'.format(i), 'time:', datetime.now())\n",
    "    print('gdax:', len(ob_gdax), 'entries') \n",
    "    i+=1\n",
    "    time.sleep(interval) # one minute interval"
   ]
  },
  {
   "cell_type": "code",
   "execution_count": null,
   "metadata": {},
   "outputs": [],
   "source": []
  },
  {
   "cell_type": "code",
   "execution_count": 3,
   "metadata": {},
   "outputs": [],
   "source": [
    "# concatenate data\n",
    "def concat(old_data, add_data):\n",
    "    \"\"\"input: 2d ndarray\n",
    "    newest first\n",
    "    \"\"\"\n",
    "    if old_data.size == 0:\n",
    "        return add_data\n",
    "    if add_data.size == 0:\n",
    "        return old_data\n",
    "    overlap = np.argwhere(old_data[:, 0] == add_data[-1, 0])\n",
    "    if overlap.size == 0:\n",
    "        overlap = 0\n",
    "    else:\n",
    "        overlap = overlap[0][0]\n",
    "    old_data = old_data[overlap+1:, :]\n",
    "    new_data = np.vstack((add_data, old_data))\n",
    "    return new_data\n"
   ]
  },
  {
   "cell_type": "code",
   "execution_count": 4,
   "metadata": {
    "collapsed": true
   },
   "outputs": [],
   "source": [
    "# import & export csv\n",
    "import csv\n",
    "def save_data(array, name):\n",
    "    np.savetxt(name, array, delimiter=',')\n",
    "\n",
    "def load_data(name):\n",
    "    return np.genfromtxt(name, delimiter=',')"
   ]
  },
  {
   "cell_type": "code",
   "execution_count": null,
   "metadata": {},
   "outputs": [
    {
     "name": "stdout",
     "output_type": "stream",
     "text": [
      "loop 0: time: 2018-04-04 10:47:37.729051\n",
      "gdax: 4707 entries\n"
     ]
    }
   ],
   "source": [
    "# main loop\n",
    "import time\n",
    "from datetime import datetime\n",
    "import ccxt\n",
    "\n",
    "gdax = getattr(ccxt, 'gdax') ()\n",
    "bitfinex = getattr(ccxt, 'bitfinex') ()\n",
    "\n",
    "all_data = np.array([[]])\n",
    "all_data = load_data('gdax_data.csv')\n",
    "all_data_bf = np.array([[]])\n",
    "all_data_bf = load_data('bitfinex_data.csv')\n",
    "i=0\n",
    "while True:\n",
    "    try:\n",
    "        recent_data = get_ohlcv(gdax, interval, symbol)\n",
    "        all_data = concat(all_data, recent_data)\n",
    "        save_data(all_data, 'gdax_data.csv')\n",
    "    except Exception as e:\n",
    "        print('timeout, going on')\n",
    "        print(e)\n",
    "    print('loop {:d}:'.format(i), 'time:', datetime.now())\n",
    "    print('gdax:', len(all_data), 'entries') \n",
    "#     try:\n",
    "#         recent_data_bf = get_ohlcv(bitfinex, interval, symbol)\n",
    "#         all_data_bf = concat(all_data_bf, recent_data_bf)\n",
    "#         save_data(all_data_bf, 'bitfinex_data.csv')\n",
    "#     except Exception as e:\n",
    "#         print('timeout, going on')\n",
    "#         print(e)\n",
    "#     print('bitfinex:', len(all_data_bf), 'entries')\n",
    "    i+=1\n",
    "    time.sleep(5 * 60) # every half an hour\n",
    "    "
   ]
  },
  {
   "cell_type": "code",
   "execution_count": null,
   "metadata": {},
   "outputs": [],
   "source": []
  },
  {
   "cell_type": "code",
   "execution_count": null,
   "metadata": {
    "collapsed": true
   },
   "outputs": [],
   "source": []
  }
 ],
 "metadata": {
  "kernelspec": {
   "display_name": "ccxt_env",
   "language": "python",
   "name": "ccxt_env"
  },
  "language_info": {
   "codemirror_mode": {
    "name": "ipython",
    "version": 3
   },
   "file_extension": ".py",
   "mimetype": "text/x-python",
   "name": "python",
   "nbconvert_exporter": "python",
   "pygments_lexer": "ipython3",
   "version": "3.6.0"
  }
 },
 "nbformat": 4,
 "nbformat_minor": 1
}
