{
 "cells": [
  {
   "cell_type": "markdown",
   "metadata": {},
   "source": [
    "# continuously download"
   ]
  },
  {
   "cell_type": "code",
   "execution_count": null,
   "metadata": {
    "collapsed": true
   },
   "outputs": [],
   "source": []
  },
  {
   "cell_type": "code",
   "execution_count": 29,
   "metadata": {
    "collapsed": true
   },
   "outputs": [],
   "source": [
    "import ccxt\n",
    "exchange = getattr(ccxt, 'gdax') ()\n",
    "symbol = 'BTC/USD'\n",
    "interval = '1m'"
   ]
  },
  {
   "cell_type": "code",
   "execution_count": 30,
   "metadata": {
    "collapsed": true
   },
   "outputs": [],
   "source": [
    "# get data\n",
    "import time\n",
    "def get_ohlcv(exchange, interval, symbol):\n",
    "    if exchange.has['fetchOHLCV']:\n",
    "        time.sleep(exchange.rateLimit / 1000) # time.sleep wants seconds\n",
    "        gdaxohlcv = exchange.fetch_ohlcv (symbol, interval) # 1 minute intervals\n",
    "        return np.array(gdaxohlcv)"
   ]
  },
  {
   "cell_type": "code",
   "execution_count": 31,
   "metadata": {
    "collapsed": false
   },
   "outputs": [],
   "source": [
    "# concatenate data\n",
    "def concat(old_data, add_data):\n",
    "    \"\"\"input: 2d ndarray\n",
    "    newest first\n",
    "    \"\"\"\n",
    "    if old_data.size == 0:\n",
    "        return add_data\n",
    "    overlap = np.argwhere(old_data[:, 0] == add_data[-1, 0])\n",
    "    if not overlap:\n",
    "        overlap = 0\n",
    "    else:\n",
    "        overlap = overlap[0][0]\n",
    "    old_data = old_data[overlap+1:, :]\n",
    "    new_data = np.vstack((add_data, old_data))\n",
    "    return new_data\n"
   ]
  },
  {
   "cell_type": "code",
   "execution_count": 32,
   "metadata": {
    "collapsed": true
   },
   "outputs": [],
   "source": [
    "# import & export csv\n",
    "import csv\n",
    "def save_data(array, name):\n",
    "    np.savetxt(name, array, delimiter=',')\n",
    "\n",
    "def load_data(name):\n",
    "    return np.genfromtxt(name, delimiter=',')"
   ]
  },
  {
   "cell_type": "code",
   "execution_count": null,
   "metadata": {
    "collapsed": false
   },
   "outputs": [
    {
     "name": "stdout",
     "output_type": "stream",
     "text": [
      "loop 0: 345 entries\n"
     ]
    }
   ],
   "source": [
    "# main loop\n",
    "import time\n",
    "from datetime import datetime\n",
    "\n",
    "all_data = np.array([[]])\n",
    "all_data = load_data('gdax_data.csv')\n",
    "i=0\n",
    "while True:\n",
    "    print('loop {:d}:'.format(i), len(all_data), 'entries - time:', datetime.now())\n",
    "    recent_data = get_ohlcv(exchange, interval, symbol)\n",
    "    all_data = concat(all_data, recent_data)\n",
    "    save_data(all_data, 'gdax_data.csv')\n",
    "    time.sleep(30 * 60) # every half an hour\n",
    "    "
   ]
  },
  {
   "cell_type": "code",
   "execution_count": 14,
   "metadata": {
    "collapsed": false
   },
   "outputs": [
    {
     "data": {
      "text/plain": [
       "array([[3],\n",
       "       [4]])"
      ]
     },
     "execution_count": 14,
     "metadata": {},
     "output_type": "execute_result"
    }
   ],
   "source": [
    "import numpy as np\n",
    "a = np.array([0, 1, 2, 3, 4])\n",
    "np.argwhere(a >= 3)"
   ]
  },
  {
   "cell_type": "code",
   "execution_count": null,
   "metadata": {
    "collapsed": true
   },
   "outputs": [],
   "source": []
  }
 ],
 "metadata": {
  "kernelspec": {
   "display_name": "Python 3 (ccxt_env)",
   "language": "python",
   "name": "ccxt_env"
  },
  "language_info": {
   "codemirror_mode": {
    "name": "ipython",
    "version": 3
   },
   "file_extension": ".py",
   "mimetype": "text/x-python",
   "name": "python",
   "nbconvert_exporter": "python",
   "pygments_lexer": "ipython3",
   "version": "3.6.2"
  }
 },
 "nbformat": 4,
 "nbformat_minor": 0
}
