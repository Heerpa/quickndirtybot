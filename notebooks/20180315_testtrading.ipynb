{
 "cells": [
  {
   "cell_type": "markdown",
   "metadata": {},
   "source": [
    "# Test trading\n",
    "but on dry-run: no real transactions, but live backtesting\n"
   ]
  },
  {
   "cell_type": "code",
   "execution_count": 1,
   "metadata": {
    "collapsed": false
   },
   "outputs": [],
   "source": [
    "from quickndirtybot import connect\n",
    "from quickndirtybot.io import load_config\n",
    "from quickndirtybot import trade\n",
    "from quickndirtybot.strategies import minmax"
   ]
  },
  {
   "cell_type": "code",
   "execution_count": 2,
   "metadata": {
    "collapsed": false
   },
   "outputs": [],
   "source": [
    "exchange = connect.connect('gdax')\n",
    "config = load_config('../configs/config_gdax.json')\n",
    "connect.check_credentials(exchange, credentials=config['exchange'])\n",
    "symbol = 'BTC/USD'\n",
    "strategy = {\n",
    "    'strategy': minmax,\n",
    "    'measure_pars': {'smaperiod': 20, 'minmaxperiod': 180},\n",
    "    'findbuy_pars': {'thresh_maxovermin': 1.0001},\n",
    "    'findsell_pars': {'thresh_maxovermin': 1.0001},\n",
    "    'evallines': 250,\n",
    "    'interval': '1m',\n",
    "    'minfunds_USD': 10,\n",
    "    'minfunds_BTC': .005,\n",
    "    'amount_buy': 10,\n",
    "    'amount_sell': 10,\n",
    "}"
   ]
  },
  {
   "cell_type": "code",
   "execution_count": null,
   "metadata": {
    "collapsed": false
   },
   "outputs": [
    {
     "name": "stdout",
     "output_type": "stream",
     "text": [
      "new week. starting new dataset\n",
      "selling. ask price is 8286.0\n",
      "selling 0.07872286 BTC\n"
     ]
    }
   ],
   "source": [
    "trade.trade(exchange, symbol, strategy_dict=strategy, filename='../data/trade_gdax',\n",
    "          test=True, taker_fee=0.003)"
   ]
  },
  {
   "cell_type": "code",
   "execution_count": null,
   "metadata": {
    "collapsed": true
   },
   "outputs": [],
   "source": []
  }
 ],
 "metadata": {
  "kernelspec": {
   "display_name": "Python 3 (ccxt_env)",
   "language": "python",
   "name": "ccxt_env"
  },
  "language_info": {
   "codemirror_mode": {
    "name": "ipython",
    "version": 3
   },
   "file_extension": ".py",
   "mimetype": "text/x-python",
   "name": "python",
   "nbconvert_exporter": "python",
   "pygments_lexer": "ipython3",
   "version": "3.6.2"
  }
 },
 "nbformat": 4,
 "nbformat_minor": 0
}
