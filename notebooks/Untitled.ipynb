{
 "cells": [
  {
   "cell_type": "code",
   "execution_count": null,
   "metadata": {
    "collapsed": false
   },
   "outputs": [],
   "source": [
    "import ccxt\n",
    "exchange = ccxt.okcoinusd () # default id\n",
    "okcoin1 = ccxt.okcoinusd ({ 'id': 'okcoin1' })\n",
    "okcoin2 = ccxt.okcoinusd ({ 'id': 'okcoin2' })\n",
    "id = 'btcchina'\n",
    "btcchina = eval ('ccxt.%s ()' % id)\n",
    "gdax = getattr (ccxt, 'gdax') ()\n",
    "print(gdax.timeframes)\n",
    "bitfinex = getattr (ccxt, 'bitfinex') ()\n",
    "print(bitfinex.timeframes)"
   ]
  },
  {
   "cell_type": "code",
   "execution_count": null,
   "metadata": {
    "collapsed": false
   },
   "outputs": [],
   "source": [
    "# load markets\n",
    "import pprint\n",
    "pp = pprint.PrettyPrinter(indent=4)\n",
    "\n",
    "markets = gdax.load_markets()\n",
    "print(gdax.id)\n",
    "pp.pprint(markets)"
   ]
  },
  {
   "cell_type": "code",
   "execution_count": null,
   "metadata": {
    "collapsed": false
   },
   "outputs": [],
   "source": [
    "# reload markets\n",
    "poloniex = ccxt.poloniex({'verbose': True}) # log HTTP requests\n",
    "poloniex.load_markets() # request markets\n",
    "print(poloniex.id, poloniex.markets)   # output a full list of all loaded markets\n",
    "print(list(poloniex.markets.keys())) # output a short list of market symbols\n",
    "print(poloniex.markets['BTC/ETH'])     # output single market details\n",
    "poloniex.load_markets() # return a locally cached version, no reload\n",
    "reloadedMarkets = poloniex.load_markets(True) # force HTTP reload = True\n",
    "print(reloadedMarkets['ETH/ZEC'])"
   ]
  },
  {
   "cell_type": "code",
   "execution_count": null,
   "metadata": {
    "collapsed": false
   },
   "outputs": [],
   "source": [
    "# order book\n",
    "import time\n",
    "delay = 2 # seconds\n",
    "# for symbol in gdax.markets:\n",
    "#     pp.pprint (gdax.fetch_order_book (symbol))\n",
    "#     time.sleep (delay) # rate limit\n",
    "    \n",
    "pp.pprint(gdax.fetch_order_book('BTC/USD'))"
   ]
  },
  {
   "cell_type": "code",
   "execution_count": null,
   "metadata": {
    "collapsed": false
   },
   "outputs": [],
   "source": [
    "# price ticker\n",
    "import random\n",
    "print(gdax.fetch_ticker('BTC/USD')) # ticker for BTC/USD\n",
    "symbols = list(gdax.markets.keys())\n",
    "pp.pprint(gdax.fetch_ticker(random.choice(symbols))) # ticker for a random symbol"
   ]
  },
  {
   "cell_type": "code",
   "execution_count": null,
   "metadata": {
    "collapsed": false
   },
   "outputs": [],
   "source": [
    "# OHLCV data\n",
    "import time\n",
    "if gdax.has['fetchOHLCV']:\n",
    "#     for symbol in gdax.markets:\n",
    "    symbol='BTC/USD'\n",
    "    time.sleep(gdax.rateLimit / 1000) # time.sleep wants seconds\n",
    "    gdaxohlcv = gdax.fetch_ohlcv (symbol, '1m') # 1 minute intervals\n",
    "    timerange = gdaxohlcv[0][0] - gdaxohlcv[-1][0]\n",
    "    print('nrentries', len(gdaxohlcv))\n",
    "    print('timerange', timerange/1000/60/60/24, 'd')\n",
    "    print('deltat', (gdaxohlcv[0][0] - gdaxohlcv[1][0])/1000/60/60, 'h')\n",
    "    pp.pprint(gdaxohlcv)"
   ]
  },
  {
   "cell_type": "code",
   "execution_count": null,
   "metadata": {
    "collapsed": false
   },
   "outputs": [],
   "source": []
  },
  {
   "cell_type": "code",
   "execution_count": null,
   "metadata": {
    "collapsed": false
   },
   "outputs": [],
   "source": [
    "import time\n",
    "from datetime import datetime\n",
    "from dateutil import tz\n",
    "\n",
    "def convert_times(mstimes):\n",
    "    \"\"\"converts an array of ms time integers to human readable\n",
    "    \"\"\"\n",
    "    local = []\n",
    "    for mstim in mstimes:\n",
    "        s, ms = divmod(mstim, 1000)  # (1236472051, 807)\n",
    "        utcstring = '%s.%03d' % (time.strftime('%Y-%m-%d %H:%M:%S', time.gmtime(s)), ms)\n",
    "\n",
    "        # METHOD 2: Auto-detect zones:\n",
    "        from_zone = tz.tzutc()\n",
    "        to_zone = tz.tzlocal()\n",
    "        to_zone = tz.gettz('Europe/Berlin')\n",
    "\n",
    "        # utc = datetime.utcnow()\n",
    "        utc = datetime.strptime(utcstring, '%Y-%m-%d %H:%M:%S.%f')\n",
    "\n",
    "        # Tell the datetime object that it's in UTC time zone since \n",
    "        # datetime objects are 'naive' by default\n",
    "        utc = utc.replace(tzinfo=from_zone)\n",
    "\n",
    "        # Convert time zone\n",
    "        local.append(utc.astimezone(to_zone).strftime('%Y-%m-%d %H:%M:%S.%f'))\n",
    "    return local\n",
    "\n",
    "print(convert_times([1522368000000, 1496534400000]))"
   ]
  },
  {
   "cell_type": "code",
   "execution_count": null,
   "metadata": {
    "collapsed": false
   },
   "outputs": [],
   "source": []
  },
  {
   "cell_type": "code",
   "execution_count": null,
   "metadata": {
    "collapsed": true
   },
   "outputs": [],
   "source": []
  }
 ],
 "metadata": {
  "kernelspec": {
   "display_name": "Python 3 (ccxt_env)",
   "language": "python",
   "name": "ccxt_env"
  },
  "language_info": {
   "codemirror_mode": {
    "name": "ipython",
    "version": 3
   },
   "file_extension": ".py",
   "mimetype": "text/x-python",
   "name": "python",
   "nbconvert_exporter": "python",
   "pygments_lexer": "ipython3",
   "version": "3.6.2"
  }
 },
 "nbformat": 4,
 "nbformat_minor": 1
}
