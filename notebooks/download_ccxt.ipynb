{
 "cells": [
  {
   "cell_type": "markdown",
   "metadata": {},
   "source": [
    "# continuously download"
   ]
  },
  {
   "cell_type": "code",
   "execution_count": null,
   "metadata": {
    "collapsed": true
   },
   "outputs": [],
   "source": []
  },
  {
   "cell_type": "code",
   "execution_count": 29,
   "metadata": {
    "collapsed": true
   },
   "outputs": [],
   "source": [
    "import ccxt\n",
    "exchange = getattr(ccxt, 'gdax') ()\n",
    "symbol = 'BTC/USD'\n",
    "interval = '1m'"
   ]
  },
  {
   "cell_type": "code",
   "execution_count": 30,
   "metadata": {
    "collapsed": true
   },
   "outputs": [],
   "source": [
    "# get data\n",
    "import time\n",
    "def get_ohlcv(exchange, interval, symbol):\n",
    "    if exchange.has['fetchOHLCV']:\n",
    "        time.sleep(exchange.rateLimit / 1000) # time.sleep wants seconds\n",
    "        gdaxohlcv = exchange.fetch_ohlcv (symbol, interval) # 1 minute intervals\n",
    "        return np.array(gdaxohlcv)"
   ]
  },
  {
   "cell_type": "code",
   "execution_count": 54,
   "metadata": {
    "collapsed": false
   },
   "outputs": [],
   "source": [
    "# concatenate data\n",
    "def concat(old_data, add_data):\n",
    "    \"\"\"input: 2d ndarray\n",
    "    newest first\n",
    "    \"\"\"\n",
    "    if old_data.size == 0:\n",
    "        return add_data\n",
    "    if add_data.size == 0:\n",
    "        return old_data\n",
    "    overlap = np.argwhere(old_data[:, 0] == add_data[-1, 0])\n",
    "    if overlap.size == 0:\n",
    "        overlap = 0\n",
    "    else:\n",
    "        overlap = overlap[0][0]\n",
    "    old_data = old_data[overlap+1:, :]\n",
    "    new_data = np.vstack((add_data, old_data))\n",
    "    return new_data\n"
   ]
  },
  {
   "cell_type": "code",
   "execution_count": 32,
   "metadata": {
    "collapsed": true
   },
   "outputs": [],
   "source": [
    "# import & export csv\n",
    "import csv\n",
    "def save_data(array, name):\n",
    "    np.savetxt(name, array, delimiter=',')\n",
    "\n",
    "def load_data(name):\n",
    "    return np.genfromtxt(name, delimiter=',')"
   ]
  },
  {
   "cell_type": "code",
   "execution_count": null,
   "metadata": {
    "collapsed": false
   },
   "outputs": [
    {
     "name": "stdout",
     "output_type": "stream",
     "text": [
      "loop 0: time: 2018-04-04 10:47:37.729051\n",
      "gdax: 4707 entries\n"
     ]
    }
   ],
   "source": [
    "# main loop\n",
    "import time\n",
    "from datetime import datetime\n",
    "import ccxt\n",
    "\n",
    "gdax = getattr(ccxt, 'gdax') ()\n",
    "bitfinex = getattr(ccxt, 'bitfinex') ()\n",
    "\n",
    "all_data = np.array([[]])\n",
    "all_data = load_data('gdax_data.csv')\n",
    "all_data_bf = np.array([[]])\n",
    "all_data_bf = load_data('bitfinex_data.csv')\n",
    "i=0\n",
    "while True:\n",
    "    try:\n",
    "        recent_data = get_ohlcv(gdax, interval, symbol)\n",
    "        all_data = concat(all_data, recent_data)\n",
    "        save_data(all_data, 'gdax_data.csv')\n",
    "    except Exception as e:\n",
    "        print('timeout, going on')\n",
    "        print(e)\n",
    "    print('loop {:d}:'.format(i), 'time:', datetime.now())\n",
    "    print('gdax:', len(all_data), 'entries') \n",
    "#     try:\n",
    "#         recent_data_bf = get_ohlcv(bitfinex, interval, symbol)\n",
    "#         all_data_bf = concat(all_data_bf, recent_data_bf)\n",
    "#         save_data(all_data_bf, 'bitfinex_data.csv')\n",
    "#     except Exception as e:\n",
    "#         print('timeout, going on')\n",
    "#         print(e)\n",
    "#     print('bitfinex:', len(all_data_bf), 'entries')\n",
    "    i+=1\n",
    "    time.sleep(5 * 60) # every half an hour\n",
    "    "
   ]
  },
  {
   "cell_type": "code",
   "execution_count": null,
   "metadata": {
    "collapsed": false
   },
   "outputs": [],
   "source": []
  },
  {
   "cell_type": "code",
   "execution_count": null,
   "metadata": {
    "collapsed": true
   },
   "outputs": [],
   "source": []
  }
 ],
 "metadata": {
  "kernelspec": {
   "display_name": "Python 3 (ccxt_env)",
   "language": "python",
   "name": "ccxt_env"
  },
  "language_info": {
   "codemirror_mode": {
    "name": "ipython",
    "version": 3
   },
   "file_extension": ".py",
   "mimetype": "text/x-python",
   "name": "python",
   "nbconvert_exporter": "python",
   "pygments_lexer": "ipython3",
   "version": "3.6.2"
  }
 },
 "nbformat": 4,
 "nbformat_minor": 0
}
